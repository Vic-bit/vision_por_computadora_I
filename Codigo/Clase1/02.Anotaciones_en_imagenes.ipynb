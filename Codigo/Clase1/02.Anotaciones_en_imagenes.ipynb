{
 "cells": [
  {
   "cell_type": "markdown",
   "metadata": {},
   "source": [
    "# Anotaciones en imágenes \n",
    "\n",
    "Funciones básicas para graficar líneas, círculos y texto"
   ]
  },
  {
   "cell_type": "code",
   "execution_count": 6,
   "metadata": {},
   "outputs": [],
   "source": [
    "import numpy as np\n",
    "import cv2 as cv\n",
    "import matplotlib.pyplot as plt\n",
    "import PyQt5\n",
    "\n",
    "#Si queremos que las imágenes sean mostradas en una ventana emergente quitar el inline\n",
    "%matplotlib qt"
   ]
  },
  {
   "cell_type": "code",
   "execution_count": 7,
   "metadata": {},
   "outputs": [
    {
     "data": {
      "text/plain": [
       "<matplotlib.image.AxesImage at 0x15f7e86a0>"
      ]
     },
     "execution_count": 7,
     "metadata": {},
     "output_type": "execute_result"
    }
   ],
   "source": [
    "img = cv.imread('imgBloque1.bmp')\n",
    "start = (350, 0)\n",
    "end = (350, 410)\n",
    "# Dibujo una línea\n",
    "# line(imagen,inicio,fin,color,ancho_linea,tipo_linea)\n",
    "cv.line(img, start, end, (0,0,0), 2, cv.LINE_AA) #Línea recta\n",
    "cv.line(img, (250, 0), (350, 410), (255, 0, 0), 2, cv.LINE_AA) #Línea diagonal\n",
    "plt.imshow(img[...,::-1])\n"
   ]
  },
  {
   "cell_type": "markdown",
   "metadata": {},
   "source": [
    "#### Tipos de líneas\n",
    "Filled: cv.FILLED\n",
    "4-connected line: cv.LINE_4 \n",
    "8-connected line: cv.LINE_8\n",
    "Antialiased line: cv.LINE_AA"
   ]
  },
  {
   "cell_type": "markdown",
   "metadata": {},
   "source": [
    "### Tambien podemos dibujar otras figuras geometricas:\n",
    "- rectángulos (cv.rectangle)\n",
    "- elipses (cv.ellipse)\n",
    "- círculos (cv.circle)\n",
    "- polígonos (cv.polylines)"
   ]
  },
  {
   "cell_type": "markdown",
   "metadata": {},
   "source": [
    "### Escribo texto en la imagen"
   ]
  },
  {
   "cell_type": "code",
   "execution_count": 8,
   "metadata": {},
   "outputs": [],
   "source": [
    "\n",
    "# cv.putText(imagen,texto,posicion,fuente,escala,color,espesor,tipo_linea)\n",
    "img = cv.imread('it_predator.png')\n",
    "\n",
    "bbox_start = (652, 58) #Vértice superior\n",
    "bbox_end = (927, 690) #Vértice inferior\n",
    "cv.rectangle(img, bbox_start, bbox_end, (0,0,255),2) \n",
    "cv.putText(img,'Figura 86%', bbox_start, cv.FONT_HERSHEY_SIMPLEX, 1, (0,0,255), 2, cv.LINE_AA)\n",
    "plt.imshow(img[...,::-1])\n",
    "plt.show()"
   ]
  },
  {
   "cell_type": "markdown",
   "metadata": {},
   "source": [
    "### Ajuste de texto a una ROI"
   ]
  },
  {
   "cell_type": "code",
   "execution_count": 10,
   "metadata": {},
   "outputs": [],
   "source": [
    "img = cv.imread('it_predator.png')\n",
    "\n",
    "label = 'FIGURA 86%' #Texto de la imagen\n",
    "(label_width, label_height), _ = cv.getTextSize(label, cv.FONT_HERSHEY_SIMPLEX, 1, 2) #Obtiene el alto y ancho del texto\n",
    "text_end = (bbox_start[0] + label_width, bbox_start[1] - label_height) #Calcula el ultimo punto del texto\n",
    "\n",
    "cv.rectangle(img, bbox_start, bbox_end, (0,0,255),2) #Rectángulo grande\n",
    "cv.rectangle(img, bbox_start, text_end, (0,0,0),-1) #Rectángulo del texto\n",
    "cv.putText(img, label, bbox_start, cv.FONT_HERSHEY_SIMPLEX, 1, (0,0,255), 2) \n",
    "\n",
    "plt.imshow(img[...,::-1])\n",
    "plt.show()"
   ]
  },
  {
   "cell_type": "code",
   "execution_count": null,
   "metadata": {},
   "outputs": [],
   "source": []
  }
 ],
 "metadata": {
  "kernelspec": {
   "display_name": "Python 3.7.10 ('vision-robotica')",
   "language": "python",
   "name": "python3"
  },
  "language_info": {
   "codemirror_mode": {
    "name": "ipython",
    "version": 3
   },
   "file_extension": ".py",
   "mimetype": "text/x-python",
   "name": "python",
   "nbconvert_exporter": "python",
   "pygments_lexer": "ipython3",
   "version": "3.10.8"
  },
  "vscode": {
   "interpreter": {
    "hash": "0af437b5139b375ee3fab2b21e8a1376590e14b3c752e237587dc080bd8d5be3"
   }
  }
 },
 "nbformat": 4,
 "nbformat_minor": 2
}
