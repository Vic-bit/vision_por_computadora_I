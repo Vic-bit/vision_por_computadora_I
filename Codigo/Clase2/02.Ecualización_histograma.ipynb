{
 "cells": [
  {
   "attachments": {},
   "cell_type": "markdown",
   "metadata": {},
   "source": [
    "# Ecualización de histograma\n",
    "\n",
    "Global y Adaptativa"
   ]
  },
  {
   "cell_type": "code",
   "execution_count": 1,
   "metadata": {},
   "outputs": [],
   "source": [
    "%matplotlib qt\n",
    "\n",
    "import numpy as np\n",
    "import cv2 as cv\n",
    "import matplotlib.pyplot as plt"
   ]
  },
  {
   "cell_type": "code",
   "execution_count": 2,
   "metadata": {},
   "outputs": [
    {
     "name": "stderr",
     "output_type": "stream",
     "text": [
      "2024-05-12 17:47:46.375 Python[2270:84961] WARNING: Secure coding is not enabled for restorable state! Enable secure coding by implementing NSApplicationDelegate.applicationSupportsSecureRestorableState: and returning YES.\n"
     ]
    }
   ],
   "source": [
    "# Cargar una imagen en modo monocromático (un canal)\n",
    "img = cv.imread('mib-alien.jpg', cv.IMREAD_GRAYSCALE)"
   ]
  },
  {
   "cell_type": "markdown",
   "metadata": {},
   "source": [
    "#### Ejemplo: Ecualización global"
   ]
  },
  {
   "cell_type": "code",
   "execution_count": 3,
   "metadata": {},
   "outputs": [],
   "source": [
    "# Nueva figura\n",
    "fig = plt.figure()\n",
    "\n",
    "# Imagen original\n",
    "ax1=plt.subplot(221)\n",
    "ax1.imshow(img, cmap='gray', vmin=0, vmax=255)\n",
    "ax1.set_title('Original')\n",
    "\n",
    "hist1,bins1 = np.histogram(img.ravel(),256,[0,256])\n",
    "ax3=plt.subplot(223)\n",
    "ax3.plot(hist1)\n",
    "\n",
    "# Imagen ecualizada\n",
    "img_eqzd = cv.equalizeHist(img)\n",
    "ax2=plt.subplot(222)\n",
    "ax2.imshow(img_eqzd, cmap='gray', vmin=0, vmax=255)\n",
    "ax2.set_title('Ecualizada')\n",
    "\n",
    "hist2,bins2 = np.histogram(img_eqzd.ravel(),256,[0,256])\n",
    "ax4=plt.subplot(224)\n",
    "ax4.plot(hist2)\n",
    "\n",
    "plt.show()\n"
   ]
  },
  {
   "cell_type": "markdown",
   "metadata": {},
   "source": [
    "Con cv.equalizeHist hacemos todo. \n",
    "Lo que queremos hacer con la ecualización es aumentar el rango dinámico. Se observa que ahora cubre los valores hasta 255 a pesar de qué tenemos algunos valles. Lo hace de forma global sobre toda la imagen."
   ]
  },
  {
   "cell_type": "markdown",
   "metadata": {},
   "source": [
    "#### Ejemplo: CLAHE (Ecualización adaptativa)"
   ]
  },
  {
   "cell_type": "code",
   "execution_count": 18,
   "metadata": {},
   "outputs": [],
   "source": [
    "# Nueva figura\n",
    "fig = plt.figure()\n",
    "\n",
    "# Imagen original\n",
    "ax1=plt.subplot(221)\n",
    "ax1.imshow(img, cmap='gray', vmin=0, vmax=255)\n",
    "ax1.set_title('Original')\n",
    "\n",
    "hist1,bins1 = np.histogram(img.ravel(),256,[0,256])\n",
    "ax3=plt.subplot(223)\n",
    "ax3.plot(hist1)\n",
    "\n",
    "# create a CLAHE object (Arguments are optional).\n",
    "clahe = cv.createCLAHE(clipLimit=2.0, tileGridSize=(8,8))\n",
    "img_eqzd = clahe.apply(img)\n",
    "ax2=plt.subplot(222)\n",
    "ax2.imshow(img_eqzd, cmap='gray', vmin=0, vmax=255)\n",
    "ax2.set_title('Ecualizada')\n",
    "\n",
    "hist2,bins2 = np.histogram(img_eqzd.ravel(),256,[0,256])\n",
    "ax4=plt.subplot(224)\n",
    "ax4.plot(hist2)\n",
    "\n",
    "fig.show()\n",
    "\n",
    "# Mostrar las imagenes lado a lado usando cv2.hconcat\n",
    "out1 = cv.hconcat([img, img_eqzd])\n",
    "cv.imshow('Clahe', out1)\n"
   ]
  },
  {
   "cell_type": "markdown",
   "metadata": {},
   "source": [
    "La ecualización se hace por bloques y no es tan agresiva, sino más suavizada."
   ]
  },
  {
   "cell_type": "markdown",
   "metadata": {},
   "source": []
  },
  {
   "cell_type": "code",
   "execution_count": null,
   "metadata": {},
   "outputs": [],
   "source": []
  }
 ],
 "metadata": {
  "kernelspec": {
   "display_name": "Python 3.7.10 ('vision-robotica')",
   "language": "python",
   "name": "python3"
  },
  "language_info": {
   "codemirror_mode": {
    "name": "ipython",
    "version": 3
   },
   "file_extension": ".py",
   "mimetype": "text/x-python",
   "name": "python",
   "nbconvert_exporter": "python",
   "pygments_lexer": "ipython3",
   "version": "3.10.8"
  },
  "vscode": {
   "interpreter": {
    "hash": "0af437b5139b375ee3fab2b21e8a1376590e14b3c752e237587dc080bd8d5be3"
   }
  }
 },
 "nbformat": 4,
 "nbformat_minor": 2
}
