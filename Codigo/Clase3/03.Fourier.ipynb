{
 "cells": [
  {
   "cell_type": "code",
   "execution_count": 1,
   "metadata": {},
   "outputs": [
    {
     "name": "stderr",
     "output_type": "stream",
     "text": [
      "2024-05-26 21:09:43.615 Python[1299:18750] WARNING: Secure coding is not enabled for restorable state! Enable secure coding by implementing NSApplicationDelegate.applicationSupportsSecureRestorableState: and returning YES.\n"
     ]
    }
   ],
   "source": [
    "%matplotlib qt\n",
    "\n",
    "import numpy as np\n",
    "import cv2 as cv\n",
    "import matplotlib.pyplot as plt"
   ]
  },
  {
   "attachments": {},
   "cell_type": "markdown",
   "metadata": {},
   "source": [
    "## Transformada de Fourier en 2D\n",
    "Podemos interpretar los cambios de intensidad de la imagen como funciones sobre un plano"
   ]
  },
  {
   "attachments": {},
   "cell_type": "markdown",
   "metadata": {},
   "source": [
    "![SNOWFALL](fourier.png)"
   ]
  },
  {
   "cell_type": "code",
   "execution_count": 2,
   "metadata": {},
   "outputs": [],
   "source": [
    "# Leemos ambas imagenes\n",
    "img_low_freq = cv.imread('fft_hf.jpg', cv.IMREAD_GRAYSCALE)\n",
    "img_hig_freq = cv.imread('fft_lf.jpg', cv.IMREAD_GRAYSCALE)\n",
    "# Aplico la transformada\n",
    "img_fft_low = np.fft.fft2(img_low_freq)\n",
    "img_fft_hig = np.fft.fft2(img_hig_freq)\n",
    "# llevo la baja frec al origen para acomodar la visualizacion\n",
    "img_fft_low = np.fft.fftshift(img_fft_low)\n",
    "img_fft_hig = np.fft.fftshift(img_fft_hig)\n",
    "# obtengo el modulo\n",
    "img_fft_low = 20*np.log(np.abs(img_fft_low))\n",
    "img_fft_hig = 20*np.log(np.abs(img_fft_hig))\n",
    "# Tomamos un \"perfil\" de una fila por cada imagen\n",
    "low_freq_sg = img_low_freq[50,10:60]\n",
    "hig_freq_sg = img_hig_freq[50,10:60]"
   ]
  },
  {
   "attachments": {},
   "cell_type": "markdown",
   "metadata": {},
   "source": [
    "Graficamos los resultados"
   ]
  },
  {
   "cell_type": "code",
   "execution_count": 3,
   "metadata": {},
   "outputs": [
    {
     "data": {
      "text/plain": [
       "<matplotlib.image.AxesImage at 0x17e6793c0>"
      ]
     },
     "execution_count": 3,
     "metadata": {},
     "output_type": "execute_result"
    }
   ],
   "source": [
    "plt.figure(figsize=(12,12))\n",
    "plt.subplot(3,2,1)\n",
    "plt.imshow(img_low_freq, cmap='gray')\n",
    "plt.subplot(3,2,2)\n",
    "plt.imshow(img_hig_freq, cmap='gray')\n",
    "\n",
    "plt.subplot(3,2,3)\n",
    "plt.plot(low_freq_sg)\n",
    "plt.subplot(3,2,4)\n",
    "plt.plot(hig_freq_sg)\n",
    "\n",
    "plt.subplot(3,2,5)\n",
    "plt.imshow(img_fft_low, cmap='jet')\n",
    "plt.subplot(3,2,6)\n",
    "plt.imshow(img_fft_hig, cmap='jet')"
   ]
  },
  {
   "attachments": {},
   "cell_type": "markdown",
   "metadata": {},
   "source": [
    "## Filtros en el dominio espectral"
   ]
  },
  {
   "cell_type": "code",
   "execution_count": 4,
   "metadata": {},
   "outputs": [],
   "source": [
    "# funciones auxiliares\n",
    "def fft2_mod(image):\n",
    "\n",
    "  shifted_image_fft = np.fft.fftshift(np.fft.fft2(image))\n",
    "\n",
    "  return 20*np.log(np.abs(shifted_image_fft))\n",
    "\n",
    "\n",
    "def _filter_round_shape(height, width, radius):\n",
    "  canvas = np.zeros((height, width))\n",
    "  return cv.circle(canvas,\n",
    "                     center=(int(canvas.shape[1]/2), int(canvas.shape[0]/2)),\n",
    "                     radius=radius,\n",
    "                     color=(255),\n",
    "                     thickness=-1).astype(np.uint8)\n",
    "\n",
    "\n",
    "def create_lp_filter(height, width, radius=20):\n",
    "\n",
    "  lp_filter = _filter_round_shape(height, width, radius)\n",
    "  return lp_filter\n",
    "\n",
    "\n",
    "def create_hp_filter(height, width, radius=60):\n",
    "\n",
    "  lp_filter = _filter_round_shape(height, width, radius)\n",
    "  return cv.bitwise_not(lp_filter)"
   ]
  },
  {
   "cell_type": "code",
   "execution_count": 5,
   "metadata": {},
   "outputs": [],
   "source": [
    "# leo la imagen en escala de grises\n",
    "img = cv.imread('fft_alfa_pred.png', cv.IMREAD_GRAYSCALE)\n",
    "# obtengo el modulo de la transformada de fourier\n",
    "mod = fft2_mod(img)"
   ]
  },
  {
   "cell_type": "code",
   "execution_count": 6,
   "metadata": {},
   "outputs": [
    {
     "data": {
      "text/plain": [
       "<matplotlib.image.AxesImage at 0x283936b00>"
      ]
     },
     "execution_count": 6,
     "metadata": {},
     "output_type": "execute_result"
    }
   ],
   "source": [
    "plt.figure(figsize=(8,8))\n",
    "plt.subplot(1,2,1)\n",
    "plt.axis('off')\n",
    "plt.imshow(img, cmap='gray')\n",
    "plt.subplot(1,2,2)\n",
    "plt.axis('off')\n",
    "plt.imshow(mod, cmap='jet')"
   ]
  },
  {
   "attachments": {},
   "cell_type": "markdown",
   "metadata": {},
   "source": [
    "### Definimos los filtros en el dominio espectral"
   ]
  },
  {
   "cell_type": "code",
   "execution_count": 13,
   "metadata": {},
   "outputs": [
    {
     "name": "stdout",
     "output_type": "stream",
     "text": [
      "Alto  698  y Ancho  341\n"
     ]
    },
    {
     "data": {
      "text/plain": [
       "<matplotlib.image.AxesImage at 0x28b814eb0>"
      ]
     },
     "execution_count": 13,
     "metadata": {},
     "output_type": "execute_result"
    }
   ],
   "source": [
    "h, w = img.shape\n",
    "print(\"Alto \", h, \" y Ancho \", w)\n",
    "lp_filter = create_lp_filter(h, w, radius=40)\n",
    "hp_filter = create_hp_filter(h, w, radius=20)\n",
    "\n",
    "plt.figure(figsize=(8,8))\n",
    "plt.subplot(1,2,1)\n",
    "plt.imshow(lp_filter, cmap='gray')\n",
    "plt.title('Pasa bajos')\n",
    "plt.subplot(1,2,2)\n",
    "plt.title('Pasa altos')\n",
    "plt.imshow(hp_filter, cmap='gray')"
   ]
  },
  {
   "attachments": {},
   "cell_type": "markdown",
   "metadata": {},
   "source": [
    "### Aplicamos los filtros a la imagen"
   ]
  },
  {
   "cell_type": "code",
   "execution_count": 8,
   "metadata": {},
   "outputs": [],
   "source": [
    "# vuelvo a calcular la FFT. Para aplicar el filtro \n",
    "# necesito la transformada en modulo y fase en el dominio\n",
    "# de los numeros complejos\n",
    "shifted_fft = np.fft.fftshift(np.fft.fft2(img))\n",
    "lp_filtered = shifted_fft * lp_filter\n",
    "hp_filtered = shifted_fft * hp_filter\n",
    "\n",
    "# Aplicamos la antitransformada y obtenemos las imagenes filtradas\n",
    "f_ishift = np.fft.ifftshift(lp_filtered)\n",
    "img_lp = np.real(np.fft.ifft2(f_ishift))\n",
    "f_ishift = np.fft.ifftshift(hp_filtered)\n",
    "img_hp = np.real(np.fft.ifft2(f_ishift))"
   ]
  },
  {
   "attachments": {},
   "cell_type": "markdown",
   "metadata": {},
   "source": [
    "### Graficamos los resultados"
   ]
  },
  {
   "cell_type": "code",
   "execution_count": 9,
   "metadata": {},
   "outputs": [
    {
     "data": {
      "text/plain": [
       "<matplotlib.image.AxesImage at 0x287bda920>"
      ]
     },
     "execution_count": 9,
     "metadata": {},
     "output_type": "execute_result"
    }
   ],
   "source": [
    "plt.figure(figsize=(8,8))\n",
    "plt.subplot(1,2,1)\n",
    "plt.imshow(img_lp, cmap='gray')\n",
    "plt.title('Pasa bajos - Blur o desenfoque')\n",
    "plt.subplot(1,2,2)\n",
    "plt.title('Pasa altos - Realce de bordes')\n",
    "plt.imshow(img_hp, cmap='gray')"
   ]
  },
  {
   "cell_type": "code",
   "execution_count": 10,
   "metadata": {},
   "outputs": [
    {
     "ename": "SyntaxError",
     "evalue": "incomplete input (1470785886.py, line 1)",
     "output_type": "error",
     "traceback": [
      "\u001b[0;36m  Cell \u001b[0;32mIn[10], line 1\u001b[0;36m\u001b[0m\n\u001b[0;31m    def create_gauss_filter(h, w, k_size=5, sigma=5):\u001b[0m\n\u001b[0m                                                     ^\u001b[0m\n\u001b[0;31mSyntaxError\u001b[0m\u001b[0;31m:\u001b[0m incomplete input\n"
     ]
    }
   ],
   "source": [
    "def create_gauss_filter(h, w, k_size=5, sigma=5):"
   ]
  },
  {
   "cell_type": "code",
   "execution_count": 11,
   "metadata": {},
   "outputs": [
    {
     "ename": "NameError",
     "evalue": "name 'create_gauss_filter' is not defined",
     "output_type": "error",
     "traceback": [
      "\u001b[0;31m---------------------------------------------------------------------------\u001b[0m",
      "\u001b[0;31mNameError\u001b[0m                                 Traceback (most recent call last)",
      "\u001b[1;32m/Users/victordavidsilva/vision_computadora_I/Codigo/Clase3/03.Fourier.ipynb Celda 18\u001b[0m line \u001b[0;36m1\n\u001b[0;32m----> <a href='vscode-notebook-cell:/Users/victordavidsilva/vision_computadora_I/Codigo/Clase3/03.Fourier.ipynb#X23sZmlsZQ%3D%3D?line=0'>1</a>\u001b[0m kernel, kernel_tf \u001b[39m=\u001b[39m create_gauss_filter(h, w, k_size\u001b[39m=\u001b[39m\u001b[39m15\u001b[39m, sigma\u001b[39m=\u001b[39m\u001b[39m2\u001b[39m)\n\u001b[1;32m      <a href='vscode-notebook-cell:/Users/victordavidsilva/vision_computadora_I/Codigo/Clase3/03.Fourier.ipynb#X23sZmlsZQ%3D%3D?line=2'>3</a>\u001b[0m plt\u001b[39m.\u001b[39mfigure(figsize\u001b[39m=\u001b[39m(\u001b[39m12\u001b[39m,\u001b[39m12\u001b[39m))\n\u001b[1;32m      <a href='vscode-notebook-cell:/Users/victordavidsilva/vision_computadora_I/Codigo/Clase3/03.Fourier.ipynb#X23sZmlsZQ%3D%3D?line=3'>4</a>\u001b[0m plt\u001b[39m.\u001b[39msubplot(\u001b[39m1\u001b[39m,\u001b[39m2\u001b[39m,\u001b[39m1\u001b[39m)\n",
      "\u001b[0;31mNameError\u001b[0m: name 'create_gauss_filter' is not defined"
     ]
    }
   ],
   "source": [
    "kernel, kernel_tf = create_gauss_filter(h, w, k_size=15, sigma=2) # Vamos que sale descentrado de la transformada de Fourier.\n",
    "\n",
    "plt.figure(figsize=(12,12))\n",
    "plt.subplot(1,2,1)\n",
    "plt.axis('off')\n",
    "plt.title(\"Kernel Gausiano\")\n",
    "plt.imshow(kernel, cmap='jet') #Uso jet para visualizarlo\n",
    "plt.subplot(1,2,2)\n",
    "plt.axis('off')\n",
    "plt.title(\"FFT del kernel\")\n",
    "tf_shifted = np.fft.fftshift(kernel_tf)\n",
    "plt.imshow(np.abs(tf_shifted), cmap='jet')"
   ]
  },
  {
   "cell_type": "code",
   "execution_count": 12,
   "metadata": {},
   "outputs": [
    {
     "ename": "NameError",
     "evalue": "name 'kernel_tf' is not defined",
     "output_type": "error",
     "traceback": [
      "\u001b[0;31m---------------------------------------------------------------------------\u001b[0m",
      "\u001b[0;31mNameError\u001b[0m                                 Traceback (most recent call last)",
      "\u001b[1;32m/Users/victordavidsilva/vision_computadora_I/Codigo/Clase3/03.Fourier.ipynb Celda 19\u001b[0m line \u001b[0;36m2\n\u001b[1;32m      <a href='vscode-notebook-cell:/Users/victordavidsilva/vision_computadora_I/Codigo/Clase3/03.Fourier.ipynb#X24sZmlsZQ%3D%3D?line=0'>1</a>\u001b[0m img_fft \u001b[39m=\u001b[39m np\u001b[39m.\u001b[39mfft\u001b[39m.\u001b[39mfft2(img)\n\u001b[0;32m----> <a href='vscode-notebook-cell:/Users/victordavidsilva/vision_computadora_I/Codigo/Clase3/03.Fourier.ipynb#X24sZmlsZQ%3D%3D?line=1'>2</a>\u001b[0m filtered \u001b[39m=\u001b[39m img_fft \u001b[39m*\u001b[39m kernel_tf\n\u001b[1;32m      <a href='vscode-notebook-cell:/Users/victordavidsilva/vision_computadora_I/Codigo/Clase3/03.Fourier.ipynb#X24sZmlsZQ%3D%3D?line=3'>4</a>\u001b[0m img_gauss \u001b[39m=\u001b[39m np\u001b[39m.\u001b[39mfft\u001b[39m.\u001b[39mifftshift(np\u001b[39m.\u001b[39mreal(np\u001b[39m.\u001b[39mfft\u001b[39m.\u001b[39mifft2(filtered)))\n\u001b[1;32m      <a href='vscode-notebook-cell:/Users/victordavidsilva/vision_computadora_I/Codigo/Clase3/03.Fourier.ipynb#X24sZmlsZQ%3D%3D?line=5'>6</a>\u001b[0m plt\u001b[39m.\u001b[39mfigure(figsize\u001b[39m=\u001b[39m(\u001b[39m8\u001b[39m,\u001b[39m8\u001b[39m))\n",
      "\u001b[0;31mNameError\u001b[0m: name 'kernel_tf' is not defined"
     ]
    }
   ],
   "source": [
    "img_fft = np.fft.fft2(img) #De hecho si le aplico transformada de Fourier a la imagen, esta va a salir descentrada\n",
    "filtered = img_fft * kernel_tf #El filtrado lo hago haciendo un producto.\n",
    "\n",
    "img_gauss = np.fft.ifftshift(np.real(np.fft.ifft2(filtered))) #Luego antitransformo, tomo la parte real, porque queda un residuo de la parte imaginaria\n",
    "\n",
    "plt.figure(figsize=(8,8))\n",
    "plt.imshow(img_gauss, cmap='gray')\n",
    "plt.title('Desenfoque gausiano')\n",
    "\n",
    "# Es el mismo resultado que uno tendría usando la fórmula de una convolusión. "
   ]
  },
  {
   "cell_type": "code",
   "execution_count": null,
   "metadata": {},
   "outputs": [],
   "source": []
  }
 ],
 "metadata": {
  "kernelspec": {
   "display_name": "Python 3.7.10 ('vision-robotica')",
   "language": "python",
   "name": "python3"
  },
  "language_info": {
   "codemirror_mode": {
    "name": "ipython",
    "version": 3
   },
   "file_extension": ".py",
   "mimetype": "text/x-python",
   "name": "python",
   "nbconvert_exporter": "python",
   "pygments_lexer": "ipython3",
   "version": "3.10.8"
  },
  "orig_nbformat": 4,
  "vscode": {
   "interpreter": {
    "hash": "0af437b5139b375ee3fab2b21e8a1376590e14b3c752e237587dc080bd8d5be3"
   }
  }
 },
 "nbformat": 4,
 "nbformat_minor": 2
}
